{
 "cells": [
  {
   "cell_type": "markdown",
   "metadata": {},
   "source": [
    "# Cross Validation\n",
    "We've looked at a range of topics involved with fitting a model to data. This began with the simplest of regression cases and determining criteria for an optimal model, which led us to mean squarred error. From there, we further examined overfitting and underfitting which motivated train test split and later, the bias variance tradeoff. Here, we synthesize many of these ideas into a new sampling, optimization meta-routine known as cross validation. \n",
    "\n",
    "A common form of cross validation is known as K-folds. In this process, the dataset is partitioned into K equally sized groups. Each group is then used as a hold out test set while the remaining k-1 groups are used as a training set. This then produces K different models, one for each of the hold out test sets. These models can then be averaged (perhaps a weighted average based on their test set performance) in order to produce a finalized model.\n",
    "\n",
    "This is also a very useful method for helping to determine the generalization of our models, or the anticipated difference between train and test errors for the model."
   ]
  },
  {
   "cell_type": "markdown",
   "metadata": {},
   "source": [
    "## 1. K-Folds\n",
    "Write a function k-folds that splits a dataset into k evenly sized pieces.\n",
    "If the full dataset is not divisible by k, make the first few folds one larger then later ones."
   ]
  },
  {
   "cell_type": "code",
   "execution_count": 2,
   "metadata": {},
   "outputs": [],
   "source": [
    "def kfolds(data, k):\n",
    "    #Force data as pandas dataframe (optional but could be helpful)    \n",
    "    #Be sure to account for the case where the dataset is not evenly divisible\n",
    "    data = pd.DataFrame(data)\n",
    "    num = len(data)//k\n",
    "    over = len(data)%k\n",
    "    folds = []\n",
    "    start = 0\n",
    "    \n",
    "    for n in range(1, k+1):\n",
    "        if n <= over:\n",
    "            #print(data.loc[start:start+num+1])\n",
    "            folds.append(data.loc[start:start+num])\n",
    "            start += num+1\n",
    "        else:\n",
    "            folds.append(data.loc[start:start+num-1])\n",
    "            start+= num\n",
    "    \n",
    "    return folds #folds should be a list of subsets of data"
   ]
  },
  {
   "cell_type": "markdown",
   "metadata": {},
   "source": [
    "## 2. Cross Validation\n",
    "* Split your dataset into 10 groups using your kfolds function above.\n",
    "* Perform linear regression on each and calculate the training and test error. \n",
    "* Create a simple bar chart to display the various train and test errors for each of the 10 folds."
   ]
  },
  {
   "cell_type": "code",
   "execution_count": 3,
   "metadata": {},
   "outputs": [],
   "source": [
    "import pandas as pd\n",
    "from sklearn.linear_model import LinearRegression\n",
    "import matplotlib.pyplot as plt\n",
    "%matplotlib inline\n",
    "import numpy as np"
   ]
  },
  {
   "cell_type": "code",
   "execution_count": 4,
   "metadata": {},
   "outputs": [
    {
     "data": {
      "text/html": [
       "<div>\n",
       "<style scoped>\n",
       "    .dataframe tbody tr th:only-of-type {\n",
       "        vertical-align: middle;\n",
       "    }\n",
       "\n",
       "    .dataframe tbody tr th {\n",
       "        vertical-align: top;\n",
       "    }\n",
       "\n",
       "    .dataframe thead th {\n",
       "        text-align: right;\n",
       "    }\n",
       "</style>\n",
       "<table border=\"1\" class=\"dataframe\">\n",
       "  <thead>\n",
       "    <tr style=\"text-align: right;\">\n",
       "      <th></th>\n",
       "      <th>budget</th>\n",
       "      <th>domgross</th>\n",
       "      <th>title</th>\n",
       "      <th>Response_Json</th>\n",
       "      <th>Year</th>\n",
       "      <th>imdbRating</th>\n",
       "      <th>Metascore</th>\n",
       "      <th>imdbVotes</th>\n",
       "      <th>Model</th>\n",
       "    </tr>\n",
       "  </thead>\n",
       "  <tbody>\n",
       "    <tr>\n",
       "      <th>0</th>\n",
       "      <td>13000000</td>\n",
       "      <td>25682380</td>\n",
       "      <td>21 &amp;amp; Over</td>\n",
       "      <td>0</td>\n",
       "      <td>2008</td>\n",
       "      <td>6.8</td>\n",
       "      <td>48</td>\n",
       "      <td>206513</td>\n",
       "      <td>4.912759e+07</td>\n",
       "    </tr>\n",
       "    <tr>\n",
       "      <th>1</th>\n",
       "      <td>45658735</td>\n",
       "      <td>13414714</td>\n",
       "      <td>Dredd 3D</td>\n",
       "      <td>0</td>\n",
       "      <td>2012</td>\n",
       "      <td>0.0</td>\n",
       "      <td>0</td>\n",
       "      <td>0</td>\n",
       "      <td>2.267265e+05</td>\n",
       "    </tr>\n",
       "    <tr>\n",
       "      <th>2</th>\n",
       "      <td>20000000</td>\n",
       "      <td>53107035</td>\n",
       "      <td>12 Years a Slave</td>\n",
       "      <td>0</td>\n",
       "      <td>2013</td>\n",
       "      <td>8.1</td>\n",
       "      <td>96</td>\n",
       "      <td>537525</td>\n",
       "      <td>1.626624e+08</td>\n",
       "    </tr>\n",
       "    <tr>\n",
       "      <th>3</th>\n",
       "      <td>61000000</td>\n",
       "      <td>75612460</td>\n",
       "      <td>2 Guns</td>\n",
       "      <td>0</td>\n",
       "      <td>2013</td>\n",
       "      <td>6.7</td>\n",
       "      <td>55</td>\n",
       "      <td>173726</td>\n",
       "      <td>7.723381e+07</td>\n",
       "    </tr>\n",
       "    <tr>\n",
       "      <th>4</th>\n",
       "      <td>40000000</td>\n",
       "      <td>95020213</td>\n",
       "      <td>42</td>\n",
       "      <td>0</td>\n",
       "      <td>2013</td>\n",
       "      <td>7.5</td>\n",
       "      <td>62</td>\n",
       "      <td>74170</td>\n",
       "      <td>4.151958e+07</td>\n",
       "    </tr>\n",
       "  </tbody>\n",
       "</table>\n",
       "</div>"
      ],
      "text/plain": [
       "     budget  domgross             title  Response_Json  Year  imdbRating  \\\n",
       "0  13000000  25682380     21 &amp; Over              0  2008         6.8   \n",
       "1  45658735  13414714          Dredd 3D              0  2012         0.0   \n",
       "2  20000000  53107035  12 Years a Slave              0  2013         8.1   \n",
       "3  61000000  75612460            2 Guns              0  2013         6.7   \n",
       "4  40000000  95020213                42              0  2013         7.5   \n",
       "\n",
       "   Metascore  imdbVotes         Model  \n",
       "0         48     206513  4.912759e+07  \n",
       "1          0          0  2.267265e+05  \n",
       "2         96     537525  1.626624e+08  \n",
       "3         55     173726  7.723381e+07  \n",
       "4         62      74170  4.151958e+07  "
      ]
     },
     "execution_count": 4,
     "metadata": {},
     "output_type": "execute_result"
    }
   ],
   "source": [
    "df = pd.read_excel('movie_data_detailed_with_ols.xlsx')\n",
    "X_feats = ['budget', 'imdbRating',\n",
    "       'Metascore', 'imdbVotes']\n",
    "y_feat = 'domgross'\n",
    "df.head()"
   ]
  },
  {
   "cell_type": "code",
   "execution_count": 5,
   "metadata": {},
   "outputs": [
    {
     "data": {
      "text/plain": [
       "30"
      ]
     },
     "execution_count": 5,
     "metadata": {},
     "output_type": "execute_result"
    }
   ],
   "source": [
    "len(df)"
   ]
  },
  {
   "cell_type": "code",
   "execution_count": 6,
   "metadata": {
    "scrolled": true
   },
   "outputs": [
    {
     "data": {
      "text/plain": [
       "[     budget  domgross             title  Response_Json  Year  imdbRating  \\\n",
       " 0  13000000  25682380     21 &amp; Over              0  2008         6.8   \n",
       " 1  45658735  13414714          Dredd 3D              0  2012         0.0   \n",
       " 2  20000000  53107035  12 Years a Slave              0  2013         8.1   \n",
       " \n",
       "    Metascore  imdbVotes         Model  \n",
       " 0         48     206513  4.912759e+07  \n",
       " 1          0          0  2.267265e+05  \n",
       " 2         96     537525  1.626624e+08  ,\n",
       "       budget  domgross     title  Response_Json  Year  imdbRating  Metascore  \\\n",
       " 3   61000000  75612460    2 Guns              0  2013         6.7         55   \n",
       " 4   40000000  95020213        42              0  2013         7.5         62   \n",
       " 5  225000000  38362475  47 Ronin              0  2013         6.3         28   \n",
       " \n",
       "    imdbVotes         Model  \n",
       " 3     173726  7.723381e+07  \n",
       " 4      74170  4.151958e+07  \n",
       " 5     128766  1.605898e+08  ,\n",
       "      budget  domgross                   title  Response_Json  Year  \\\n",
       " 6  92000000  67349198  A Good Day to Die Hard              0  2013   \n",
       " 7  12000000  15323921              About Time              0  2013   \n",
       " 8  13000000  18007317               Admission              0  2013   \n",
       " \n",
       "    imdbRating  Metascore  imdbVotes         Model  \n",
       " 6         5.3         28     180585  8.545563e+07  \n",
       " 7         7.8         55     240087  5.918637e+07  \n",
       " 8         5.7         48      30576  6.662264e+06  ,\n",
       "        budget   domgross                 title  Response_Json  Year  \\\n",
       " 9   130000000   60522097           After Earth              0  2013   \n",
       " 10   40000000  148430908       American Hustle              0  2013   \n",
       " 11   25000000   37304874  August: Osage County              0  2013   \n",
       " \n",
       "     imdbRating  Metascore  imdbVotes         Model  \n",
       " 9          4.9         33     174365  1.130470e+08  \n",
       " 10         7.3         90     398390  1.391177e+08  \n",
       " 11         7.2         58      75884  2.987166e+07  ,\n",
       "       budget   domgross                title  Response_Json  Year  imdbRating  \\\n",
       " 12  50000000   19452138  Beautiful Creatures              0  2013         6.2   \n",
       " 13  18000000   33345833         Blue Jasmine              0  2013         7.3   \n",
       " 14  55000000  107136417     Captain Phillips              0  2013         7.8   \n",
       " \n",
       "     Metascore  imdbVotes         Model  \n",
       " 12         52      76001  4.450435e+07  \n",
       " 13         78     170986  6.068826e+07  \n",
       " 14         83     368244  1.367860e+08  ,\n",
       "       budget   domgross                                title  Response_Json  \\\n",
       " 15  30000000   35266619                               Carrie              0   \n",
       " 16  78000000  119640264  Cloudy with a Chance of Meatballs 2              0   \n",
       " 17  76000000  368065385                      Despicable Me 2              0   \n",
       " \n",
       "     Year  imdbRating  Metascore  imdbVotes         Model  \n",
       " 15  1976         7.4         85     142328  6.870045e+07  \n",
       " 16  2013         6.4         59      75138  6.705665e+07  \n",
       " 17  2013         7.4         62     324664  1.279797e+08  ,\n",
       "        budget  domgross             title  Response_Json  Year  imdbRating  \\\n",
       " 18    5500000  24477704           Don Jon              0  2013         6.6   \n",
       " 19  120000000  93050117           Elysium              0  2013         6.6   \n",
       " 20  110000000  61737191  Ender&#39;s Game              0  2013         0.0   \n",
       " \n",
       "     Metascore  imdbVotes         Model  \n",
       " 18         66     208948  5.544622e+07  \n",
       " 19         61     378131  1.713503e+08  \n",
       " 20          0          0  4.339865e+07  ,\n",
       "        budget   domgross                     title  Response_Json  Year  \\\n",
       " 21  100000000  107518682                      Epic              0  2013   \n",
       " 22   40000000   57012977  Escape from Planet Earth              0  2013   \n",
       " 23   70000000   25213103               Escape Plan              0  2013   \n",
       " \n",
       "     imdbRating  Metascore  imdbVotes         Model  \n",
       " 21         6.7         52      92389  8.146860e+07  \n",
       " 22         5.9         35      22430  1.465533e+07  \n",
       " 23         6.7         49     198767  8.586927e+07  ,\n",
       "        budget   domgross               title  Response_Json  Year  imdbRating  \\\n",
       " 24   17000000   54239856           Evil Dead              0  2013         6.5   \n",
       " 25  160000000  238679850  Fast and Furious 6              0     0         0.0   \n",
       " 26  150000000  393050114              Frozen              0  2013         7.5   \n",
       " \n",
       "     Metascore  imdbVotes         Model  \n",
       " 24         57     139940  4.076999e+07  \n",
       " 25          0          0  2.383743e+08  \n",
       " 26         74     483555  2.242330e+08  ,\n",
       "        budget   domgross                  title  Response_Json  Year  \\\n",
       " 27  140000000  122523060  G.I. Joe: Retaliation              0  2013   \n",
       " 28   60000000   46000903         Gangster Squad              0  2013   \n",
       " 29   30000000    4167493                 Gloria              0  1980   \n",
       " \n",
       "     imdbRating  Metascore  imdbVotes         Model  \n",
       " 27         5.8         41     158210  1.193156e+08  \n",
       " 28         6.7         40     188846  7.125032e+07  \n",
       " 29         7.1          0          0 -1.783223e+07  ]"
      ]
     },
     "execution_count": 6,
     "metadata": {},
     "output_type": "execute_result"
    }
   ],
   "source": [
    "folds = kfolds(df, k=10)\n",
    "folds"
   ]
  },
  {
   "cell_type": "markdown",
   "metadata": {},
   "source": [
    "# Previews, just to demonstrate"
   ]
  },
  {
   "cell_type": "code",
   "execution_count": 7,
   "metadata": {},
   "outputs": [
    {
     "data": {
      "text/html": [
       "<div>\n",
       "<style scoped>\n",
       "    .dataframe tbody tr th:only-of-type {\n",
       "        vertical-align: middle;\n",
       "    }\n",
       "\n",
       "    .dataframe tbody tr th {\n",
       "        vertical-align: top;\n",
       "    }\n",
       "\n",
       "    .dataframe thead th {\n",
       "        text-align: right;\n",
       "    }\n",
       "</style>\n",
       "<table border=\"1\" class=\"dataframe\">\n",
       "  <thead>\n",
       "    <tr style=\"text-align: right;\">\n",
       "      <th></th>\n",
       "      <th>budget</th>\n",
       "      <th>domgross</th>\n",
       "      <th>title</th>\n",
       "      <th>Response_Json</th>\n",
       "      <th>Year</th>\n",
       "      <th>imdbRating</th>\n",
       "      <th>Metascore</th>\n",
       "      <th>imdbVotes</th>\n",
       "      <th>Model</th>\n",
       "    </tr>\n",
       "  </thead>\n",
       "  <tbody>\n",
       "    <tr>\n",
       "      <th>0</th>\n",
       "      <td>13000000</td>\n",
       "      <td>25682380</td>\n",
       "      <td>21 &amp;amp; Over</td>\n",
       "      <td>0</td>\n",
       "      <td>2008</td>\n",
       "      <td>6.8</td>\n",
       "      <td>48</td>\n",
       "      <td>206513</td>\n",
       "      <td>4.912759e+07</td>\n",
       "    </tr>\n",
       "    <tr>\n",
       "      <th>1</th>\n",
       "      <td>45658735</td>\n",
       "      <td>13414714</td>\n",
       "      <td>Dredd 3D</td>\n",
       "      <td>0</td>\n",
       "      <td>2012</td>\n",
       "      <td>0.0</td>\n",
       "      <td>0</td>\n",
       "      <td>0</td>\n",
       "      <td>2.267265e+05</td>\n",
       "    </tr>\n",
       "    <tr>\n",
       "      <th>2</th>\n",
       "      <td>20000000</td>\n",
       "      <td>53107035</td>\n",
       "      <td>12 Years a Slave</td>\n",
       "      <td>0</td>\n",
       "      <td>2013</td>\n",
       "      <td>8.1</td>\n",
       "      <td>96</td>\n",
       "      <td>537525</td>\n",
       "      <td>1.626624e+08</td>\n",
       "    </tr>\n",
       "  </tbody>\n",
       "</table>\n",
       "</div>"
      ],
      "text/plain": [
       "     budget  domgross             title  Response_Json  Year  imdbRating  \\\n",
       "0  13000000  25682380     21 &amp; Over              0  2008         6.8   \n",
       "1  45658735  13414714          Dredd 3D              0  2012         0.0   \n",
       "2  20000000  53107035  12 Years a Slave              0  2013         8.1   \n",
       "\n",
       "   Metascore  imdbVotes         Model  \n",
       "0         48     206513  4.912759e+07  \n",
       "1          0          0  2.267265e+05  \n",
       "2         96     537525  1.626624e+08  "
      ]
     },
     "execution_count": 7,
     "metadata": {},
     "output_type": "execute_result"
    }
   ],
   "source": [
    "folds[0]"
   ]
  },
  {
   "cell_type": "code",
   "execution_count": 8,
   "metadata": {},
   "outputs": [
    {
     "data": {
      "text/html": [
       "<div>\n",
       "<style scoped>\n",
       "    .dataframe tbody tr th:only-of-type {\n",
       "        vertical-align: middle;\n",
       "    }\n",
       "\n",
       "    .dataframe tbody tr th {\n",
       "        vertical-align: top;\n",
       "    }\n",
       "\n",
       "    .dataframe thead th {\n",
       "        text-align: right;\n",
       "    }\n",
       "</style>\n",
       "<table border=\"1\" class=\"dataframe\">\n",
       "  <thead>\n",
       "    <tr style=\"text-align: right;\">\n",
       "      <th></th>\n",
       "      <th>budget</th>\n",
       "      <th>domgross</th>\n",
       "      <th>title</th>\n",
       "      <th>Response_Json</th>\n",
       "      <th>Year</th>\n",
       "      <th>imdbRating</th>\n",
       "      <th>Metascore</th>\n",
       "      <th>imdbVotes</th>\n",
       "      <th>Model</th>\n",
       "    </tr>\n",
       "  </thead>\n",
       "  <tbody>\n",
       "    <tr>\n",
       "      <th>3</th>\n",
       "      <td>61000000</td>\n",
       "      <td>75612460</td>\n",
       "      <td>2 Guns</td>\n",
       "      <td>0</td>\n",
       "      <td>2013</td>\n",
       "      <td>6.7</td>\n",
       "      <td>55</td>\n",
       "      <td>173726</td>\n",
       "      <td>7.723381e+07</td>\n",
       "    </tr>\n",
       "    <tr>\n",
       "      <th>4</th>\n",
       "      <td>40000000</td>\n",
       "      <td>95020213</td>\n",
       "      <td>42</td>\n",
       "      <td>0</td>\n",
       "      <td>2013</td>\n",
       "      <td>7.5</td>\n",
       "      <td>62</td>\n",
       "      <td>74170</td>\n",
       "      <td>4.151958e+07</td>\n",
       "    </tr>\n",
       "    <tr>\n",
       "      <th>5</th>\n",
       "      <td>225000000</td>\n",
       "      <td>38362475</td>\n",
       "      <td>47 Ronin</td>\n",
       "      <td>0</td>\n",
       "      <td>2013</td>\n",
       "      <td>6.3</td>\n",
       "      <td>28</td>\n",
       "      <td>128766</td>\n",
       "      <td>1.605898e+08</td>\n",
       "    </tr>\n",
       "  </tbody>\n",
       "</table>\n",
       "</div>"
      ],
      "text/plain": [
       "      budget  domgross     title  Response_Json  Year  imdbRating  Metascore  \\\n",
       "3   61000000  75612460    2 Guns              0  2013         6.7         55   \n",
       "4   40000000  95020213        42              0  2013         7.5         62   \n",
       "5  225000000  38362475  47 Ronin              0  2013         6.3         28   \n",
       "\n",
       "   imdbVotes         Model  \n",
       "3     173726  7.723381e+07  \n",
       "4      74170  4.151958e+07  \n",
       "5     128766  1.605898e+08  "
      ]
     },
     "execution_count": 8,
     "metadata": {},
     "output_type": "execute_result"
    }
   ],
   "source": [
    "folds[1]"
   ]
  },
  {
   "cell_type": "code",
   "execution_count": 9,
   "metadata": {},
   "outputs": [
    {
     "data": {
      "text/html": [
       "<div>\n",
       "<style scoped>\n",
       "    .dataframe tbody tr th:only-of-type {\n",
       "        vertical-align: middle;\n",
       "    }\n",
       "\n",
       "    .dataframe tbody tr th {\n",
       "        vertical-align: top;\n",
       "    }\n",
       "\n",
       "    .dataframe thead th {\n",
       "        text-align: right;\n",
       "    }\n",
       "</style>\n",
       "<table border=\"1\" class=\"dataframe\">\n",
       "  <thead>\n",
       "    <tr style=\"text-align: right;\">\n",
       "      <th></th>\n",
       "      <th>budget</th>\n",
       "      <th>domgross</th>\n",
       "      <th>title</th>\n",
       "      <th>Response_Json</th>\n",
       "      <th>Year</th>\n",
       "      <th>imdbRating</th>\n",
       "      <th>Metascore</th>\n",
       "      <th>imdbVotes</th>\n",
       "      <th>Model</th>\n",
       "    </tr>\n",
       "  </thead>\n",
       "  <tbody>\n",
       "    <tr>\n",
       "      <th>24</th>\n",
       "      <td>17000000</td>\n",
       "      <td>54239856</td>\n",
       "      <td>Evil Dead</td>\n",
       "      <td>0</td>\n",
       "      <td>2013</td>\n",
       "      <td>6.5</td>\n",
       "      <td>57</td>\n",
       "      <td>139940</td>\n",
       "      <td>4.076999e+07</td>\n",
       "    </tr>\n",
       "    <tr>\n",
       "      <th>25</th>\n",
       "      <td>160000000</td>\n",
       "      <td>238679850</td>\n",
       "      <td>Fast and Furious 6</td>\n",
       "      <td>0</td>\n",
       "      <td>0</td>\n",
       "      <td>0.0</td>\n",
       "      <td>0</td>\n",
       "      <td>0</td>\n",
       "      <td>2.383743e+08</td>\n",
       "    </tr>\n",
       "    <tr>\n",
       "      <th>26</th>\n",
       "      <td>150000000</td>\n",
       "      <td>393050114</td>\n",
       "      <td>Frozen</td>\n",
       "      <td>0</td>\n",
       "      <td>2013</td>\n",
       "      <td>7.5</td>\n",
       "      <td>74</td>\n",
       "      <td>483555</td>\n",
       "      <td>2.242330e+08</td>\n",
       "    </tr>\n",
       "  </tbody>\n",
       "</table>\n",
       "</div>"
      ],
      "text/plain": [
       "       budget   domgross               title  Response_Json  Year  imdbRating  \\\n",
       "24   17000000   54239856           Evil Dead              0  2013         6.5   \n",
       "25  160000000  238679850  Fast and Furious 6              0     0         0.0   \n",
       "26  150000000  393050114              Frozen              0  2013         7.5   \n",
       "\n",
       "    Metascore  imdbVotes         Model  \n",
       "24         57     139940  4.076999e+07  \n",
       "25          0          0  2.383743e+08  \n",
       "26         74     483555  2.242330e+08  "
      ]
     },
     "execution_count": 9,
     "metadata": {},
     "output_type": "execute_result"
    }
   ],
   "source": [
    "folds[8]"
   ]
  },
  {
   "cell_type": "code",
   "execution_count": 10,
   "metadata": {},
   "outputs": [
    {
     "data": {
      "text/html": [
       "<div>\n",
       "<style scoped>\n",
       "    .dataframe tbody tr th:only-of-type {\n",
       "        vertical-align: middle;\n",
       "    }\n",
       "\n",
       "    .dataframe tbody tr th {\n",
       "        vertical-align: top;\n",
       "    }\n",
       "\n",
       "    .dataframe thead th {\n",
       "        text-align: right;\n",
       "    }\n",
       "</style>\n",
       "<table border=\"1\" class=\"dataframe\">\n",
       "  <thead>\n",
       "    <tr style=\"text-align: right;\">\n",
       "      <th></th>\n",
       "      <th>budget</th>\n",
       "      <th>domgross</th>\n",
       "      <th>title</th>\n",
       "      <th>Response_Json</th>\n",
       "      <th>Year</th>\n",
       "      <th>imdbRating</th>\n",
       "      <th>Metascore</th>\n",
       "      <th>imdbVotes</th>\n",
       "      <th>Model</th>\n",
       "    </tr>\n",
       "  </thead>\n",
       "  <tbody>\n",
       "    <tr>\n",
       "      <th>27</th>\n",
       "      <td>140000000</td>\n",
       "      <td>122523060</td>\n",
       "      <td>G.I. Joe: Retaliation</td>\n",
       "      <td>0</td>\n",
       "      <td>2013</td>\n",
       "      <td>5.8</td>\n",
       "      <td>41</td>\n",
       "      <td>158210</td>\n",
       "      <td>1.193156e+08</td>\n",
       "    </tr>\n",
       "    <tr>\n",
       "      <th>28</th>\n",
       "      <td>60000000</td>\n",
       "      <td>46000903</td>\n",
       "      <td>Gangster Squad</td>\n",
       "      <td>0</td>\n",
       "      <td>2013</td>\n",
       "      <td>6.7</td>\n",
       "      <td>40</td>\n",
       "      <td>188846</td>\n",
       "      <td>7.125032e+07</td>\n",
       "    </tr>\n",
       "    <tr>\n",
       "      <th>29</th>\n",
       "      <td>30000000</td>\n",
       "      <td>4167493</td>\n",
       "      <td>Gloria</td>\n",
       "      <td>0</td>\n",
       "      <td>1980</td>\n",
       "      <td>7.1</td>\n",
       "      <td>0</td>\n",
       "      <td>0</td>\n",
       "      <td>-1.783223e+07</td>\n",
       "    </tr>\n",
       "  </tbody>\n",
       "</table>\n",
       "</div>"
      ],
      "text/plain": [
       "       budget   domgross                  title  Response_Json  Year  \\\n",
       "27  140000000  122523060  G.I. Joe: Retaliation              0  2013   \n",
       "28   60000000   46000903         Gangster Squad              0  2013   \n",
       "29   30000000    4167493                 Gloria              0  1980   \n",
       "\n",
       "    imdbRating  Metascore  imdbVotes         Model  \n",
       "27         5.8         41     158210  1.193156e+08  \n",
       "28         6.7         40     188846  7.125032e+07  \n",
       "29         7.1          0          0 -1.783223e+07  "
      ]
     },
     "execution_count": 10,
     "metadata": {},
     "output_type": "execute_result"
    }
   ],
   "source": [
    "folds[9]"
   ]
  },
  {
   "cell_type": "code",
   "execution_count": 11,
   "metadata": {},
   "outputs": [],
   "source": [
    "def mse(residual_col):\n",
    "    residual_col = pd.Series(residual_col)\n",
    "    return np.mean(residual_col.astype(float).map(lambda x: x**2))"
   ]
  },
  {
   "cell_type": "code",
   "execution_count": 33,
   "metadata": {},
   "outputs": [
    {
     "data": {
      "text/plain": [
       "<matplotlib.axes._subplots.AxesSubplot at 0x7fc6aabb6c18>"
      ]
     },
     "execution_count": 33,
     "metadata": {},
     "output_type": "execute_result"
    },
    {
     "data": {
      "image/png": "[encoded data removed]",
      "text/plain": [
       "<Figure size 432x288 with 1 Axes>"
      ]
     },
     "metadata": {
      "needs_background": "light"
     },
     "output_type": "display_data"
    }
   ],
   "source": [
    "test_errs = []\n",
    "train_errs = []\n",
    "k=10\n",
    "linreg = LinearRegression()\n",
    "\n",
    "for n in range(k):\n",
    "    #Split into the train and test sets for this fold\n",
    "    train = pd.concat([folds[i] for i in range(k) if i != n])\n",
    "    test = folds[n]\n",
    "    #Fit Linear Regression Model\n",
    "    linreg.fit(train[X_feats], train[y_feat])\n",
    "    y_train = linreg.predict(train[X_feats])\n",
    "    y_test = linreg.predict(test[X_feats])\n",
    "    \n",
    "    #Evaluate Train and Test Errors\n",
    "    train_err = y_train-train[y_feat]\n",
    "    test_err = y_test - test[y_feat]\n",
    "    \n",
    "    train_errs.append(mse(train_err))\n",
    "    test_errs.append(mse(test_err))\n",
    "\n",
    "\n",
    "#Plot Train Versus Test Errors for each of the 10 folds\n",
    "\n",
    "new = pd.DataFrame(train_errs, test_errs).reset_index()\n",
    "new.columns = ['Train MSE', 'Test MSE']\n",
    "new\n",
    "x = [1,2,3,4,5,6,7,8,9]\n",
    "new.plot(kind='bar')"
   ]
  },
  {
   "cell_type": "markdown",
   "metadata": {},
   "source": [
    "## 4. Analysis\n",
    "What do you notice about the train and test errors?"
   ]
  },
  {
   "cell_type": "code",
   "execution_count": 13,
   "metadata": {},
   "outputs": [],
   "source": [
    "#Your answer here\n",
    "some train errors are larger than test"
   ]
  },
  {
   "cell_type": "markdown",
   "metadata": {},
   "source": [
    "## 5. Shuffling Datasets\n",
    "Write a function to randomly sort your dataset prior to cross validation.  \n",
    "Why  might you want to do this?"
   ]
  },
  {
   "cell_type": "code",
   "execution_count": null,
   "metadata": {},
   "outputs": [],
   "source": [
    "#Your function here\n"
   ]
  },
  {
   "cell_type": "code",
   "execution_count": null,
   "metadata": {},
   "outputs": [],
   "source": [
    "#Your answer here"
   ]
  }
 ],
 "metadata": {
  "kernelspec": {
   "display_name": "Python 3",
   "language": "python",
   "name": "python3"
  },
  "language_info": {
   "codemirror_mode": {
    "name": "ipython",
    "version": 3
   },
   "file_extension": ".py",
   "mimetype": "text/x-python",
   "name": "python",
   "nbconvert_exporter": "python",
   "pygments_lexer": "ipython3",
   "version": "3.6.6"
  }
 },
 "nbformat": 4,
 "nbformat_minor": 2
}
